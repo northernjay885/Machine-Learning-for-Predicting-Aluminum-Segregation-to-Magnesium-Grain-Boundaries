{
 "cells": [
  {
   "cell_type": "code",
   "execution_count": 1,
   "metadata": {},
   "outputs": [
    {
     "data": {
      "text/html": [
       "<script type=\"text/javascript\">window.PlotlyConfig = {MathJaxConfig: 'local'};</script><script type=\"text/javascript\">if (window.MathJax) {MathJax.Hub.Config({SVG: {font: \"STIX-Web\"}});}</script><script>requirejs.config({paths: { 'plotly': ['https://cdn.plot.ly/plotly-latest.min']},});if(!window._Plotly) {require(['plotly'],function(plotly) {window._Plotly=plotly;});}</script>"
      ],
      "text/vnd.plotly.v1+html": [
       "<script type=\"text/javascript\">window.PlotlyConfig = {MathJaxConfig: 'local'};</script><script type=\"text/javascript\">if (window.MathJax) {MathJax.Hub.Config({SVG: {font: \"STIX-Web\"}});}</script><script>requirejs.config({paths: { 'plotly': ['https://cdn.plot.ly/plotly-latest.min']},});if(!window._Plotly) {require(['plotly'],function(plotly) {window._Plotly=plotly;});}</script>"
      ]
     },
     "metadata": {},
     "output_type": "display_data"
    }
   ],
   "source": [
    "import torch\n",
    "import scipy.io as io\n",
    "import plotly.offline as py\n",
    "import plotly.graph_objs as go\n",
    "import json\n",
    "import numpy as np\n",
    "py.init_notebook_mode(connected=True)"
   ]
  },
  {
   "cell_type": "code",
   "execution_count": null,
   "metadata": {},
   "outputs": [],
   "source": [
    "mat = io.loadmat('data_Mg_GBperatom_seg_2Al_dump.mat')\n",
    "length_A = mat['A'].shape[1]\n",
    "for i in range(30):\n",
    "    segE = mat['A']['Eseg'][0,i]\n",
    "    #check whether this is a valid data?\n",
    "    n1 = segE[:,0] != 0 \n",
    "    segE = np.squeeze(segE[n1,:])\n",
    "    atom_ID = segE[:,0].astype(int) - 1\n",
    "\n",
    "    descriptor = mat['A']['peratom'][0,i][0,0]\n",
    "    descriptor_temp = np.concatenate([descriptor['pos'],descriptor['pe'],descriptor['cna'],descriptor['centro_fnn'],\n",
    "                                descriptor['centro_snn'],descriptor['coord'],descriptor['f'],descriptor['stress'],\n",
    "                                descriptor['voronoi']], axis = 1)\n",
    "    if i == 0:\n",
    "        descriptor_all = descriptor_temp[atom_ID]\n",
    "        segE_all = segE\n",
    "    else:\n",
    "        descriptor_temp = descriptor_temp[atom_ID]\n",
    "        descriptor_all = np.concatenate([descriptor_all, descriptor_temp], axis = 0)\n",
    "        segE_all = np.concatenate([segE_all, segE])\n",
    "\n",
    "descriptor_all[:,2] = abs(descriptor_all[:,2]-min(descriptor_all[:,2])-20)\n",
    "sigma_H = np.sum(descriptor_all[:,11:14], axis = 1)/3\n",
    "f_mag = np.linalg.norm(descriptor_all[:,8:11], axis = 1, ord = 2)\n",
    "\n",
    "feature = np.concatenate([descriptor_all, sigma_H[:,np.newaxis], f_mag[:,np.newaxis]], axis = 1)"
   ]
  },
  {
   "cell_type": "code",
   "execution_count": null,
   "metadata": {},
   "outputs": [],
   "source": [
    "y_true = segE_all[:,1]\n",
    "#We should consider the coordinates don't matter.\n",
    "feature1 = feature[:,3:]\n",
    "#feature1 = feature1/np.max(feature1)\n",
    "#feature_space = np.concatenate([np.ones((feature1.shape[0],1)), feature1], axis = 1)\n",
    "feature_space = feature1\n",
    "#random shuffle\n",
    "np.random.seed(10)\n",
    "idx0 = np.random.permutation(np.arange(len(feature_space)))\n",
    "feature_space = feature_space[idx0]\n",
    "y_true = y_true[idx0]\n",
    "#divide data into training, crossvalildation and test sets.\n",
    "X_train = feature_space[0:int(len(feature_space)*.8)]\n",
    "X_mean = np.mean(X_train, axis = 0)\n",
    "X_std = np.std(X_train, axis = 0)\n",
    "X_train = (X_train - X_mean)/X_std\n",
    "X_temp = feature_space[int(len(feature_space)*.8):]\n",
    "X_temp = (X_temp - X_mean)/X_std\n",
    "\n",
    "Y_train = y_true[0:int(len(feature_space)*.8)]\n",
    "Y_mean = np.mean(Y_train, axis = 0)\n",
    "Y_std = np.std(Y_train, axis = 0)\n",
    "#Y_train = (Y_train - Y_mean)/Y_std\n",
    "Y_temp = y_true[int(len(feature_space)*.8):]"
   ]
  },
  {
   "cell_type": "code",
   "execution_count": null,
   "metadata": {},
   "outputs": [],
   "source": [
    "(N, D_in) = X_train.shape\n",
    "H = 10\n",
    "D_out = 1\n",
    "\n",
    "X_train = torch.from_numpy(X_train)\n",
    "X_train = X_train.float()\n",
    "y = torch.from_numpy(Y_train)\n",
    "y = y.float()\n",
    "y = y.view(y.shape[0],1)\n",
    "model = torch.nn.Sequential(\n",
    "    torch.nn.Linear(D_in, H),\n",
    "    torch.nn.ReLU(),\n",
    "    torch.nn.Linear(H, D_out),\n",
    ")\n",
    "\n",
    "loss_fn = torch.nn.MSELoss(reduction='sum')\n",
    "learning_rate = 1e-4\n",
    "optimizer = torch.optim.SGD(model.parameters(), lr = learning_rate, momentum = 0.9)\n",
    "    "
   ]
  }
 ],
 "metadata": {
  "kernelspec": {
   "display_name": "Python 3",
   "language": "python",
   "name": "python3"
  },
  "language_info": {
   "codemirror_mode": {
    "name": "ipython",
    "version": 3
   },
   "file_extension": ".py",
   "mimetype": "text/x-python",
   "name": "python",
   "nbconvert_exporter": "python",
   "pygments_lexer": "ipython3",
   "version": "3.7.1"
  }
 },
 "nbformat": 4,
 "nbformat_minor": 2
}
