{
 "cells": [
  {
   "cell_type": "code",
   "execution_count": 1,
   "metadata": {},
   "outputs": [
    {
     "data": {
      "text/html": [
       "<script type=\"text/javascript\">window.PlotlyConfig = {MathJaxConfig: 'local'};</script><script type=\"text/javascript\">if (window.MathJax) {MathJax.Hub.Config({SVG: {font: \"STIX-Web\"}});}</script><script>requirejs.config({paths: { 'plotly': ['https://cdn.plot.ly/plotly-latest.min']},});if(!window._Plotly) {require(['plotly'],function(plotly) {window._Plotly=plotly;});}</script>"
      ],
      "text/vnd.plotly.v1+html": [
       "<script type=\"text/javascript\">window.PlotlyConfig = {MathJaxConfig: 'local'};</script><script type=\"text/javascript\">if (window.MathJax) {MathJax.Hub.Config({SVG: {font: \"STIX-Web\"}});}</script><script>requirejs.config({paths: { 'plotly': ['https://cdn.plot.ly/plotly-latest.min']},});if(!window._Plotly) {require(['plotly'],function(plotly) {window._Plotly=plotly;});}</script>"
      ]
     },
     "metadata": {},
     "output_type": "display_data"
    }
   ],
   "source": [
    "import scipy.io as io\n",
    "import plotly.offline as py\n",
    "import plotly.graph_objs as go\n",
    "import json\n",
    "import numpy as np\n",
    "\n",
    "py.init_notebook_mode(connected=True)"
   ]
  },
  {
   "cell_type": "code",
   "execution_count": 2,
   "metadata": {},
   "outputs": [],
   "source": [
    "mat = io.loadmat('data_Mg_GBperatom_seg_2Al_dump.mat')\n",
    "\n",
    "length_A = mat['A'].shape[1]"
   ]
  },
  {
   "cell_type": "code",
   "execution_count": 3,
   "metadata": {},
   "outputs": [],
   "source": [
    "for i in range(30):\n",
    "    segE = mat['A']['Eseg'][0,i]\n",
    "    #check whether this is a valid data?\n",
    "    n1 = segE[:,0] != 0 \n",
    "    segE = np.squeeze(segE[n1,:])\n",
    "    atom_ID = segE[:,0].astype(int) - 1\n",
    "\n",
    "    descriptor = mat['A']['peratom'][0,i][0,0]\n",
    "    descriptor_temp = np.concatenate([descriptor['pos'],descriptor['pe'],descriptor['cna'],descriptor['centro_fnn'],\n",
    "                                descriptor['centro_snn'],descriptor['coord'],descriptor['f'],descriptor['stress'],\n",
    "                                descriptor['voronoi']], axis = 1)\n",
    "    if i == 0:\n",
    "        descriptor_all = descriptor_temp[atom_ID]\n",
    "        segE_all = segE\n",
    "    else:\n",
    "        descriptor_temp = descriptor_temp[atom_ID]\n",
    "        descriptor_all = np.concatenate([descriptor_all, descriptor_temp], axis = 0)\n",
    "        segE_all = np.concatenate([segE_all, segE])\n",
    "\n",
    "descriptor_all[:,2] = abs(descriptor_all[:,2]-min(descriptor_all[:,2])-20)\n",
    "sigma_H = np.sum(descriptor_all[:,11:14], axis = 1)/3\n",
    "f_mag = np.linalg.norm(descriptor_all[:,8:11], axis = 1, ord = 2)\n",
    "\n",
    "feature = np.concatenate([descriptor_all, sigma_H[:,np.newaxis], f_mag[:,np.newaxis]], axis = 1)"
   ]
  },
  {
   "cell_type": "code",
   "execution_count": 4,
   "metadata": {},
   "outputs": [],
   "source": [
    "y_true = segE_all[:,1]\n",
    "#We should consider the coordinates don't matter.\n",
    "feature1 = feature[:,3:]\n",
    "feature1 = feature1/np.max(feature1)\n",
    "feature2 = np.zeros([feature1.shape[0], 18*18])\n",
    "for i in range(18):\n",
    "    feature2[:,i*18:i*18+18] = feature1[:,i][:,np.newaxis]*feature1[:,:]\n",
    "feature_space = np.concatenate([feature1, feature2], axis = 1)\n",
    "feature_space = np.concatenate([np.ones((feature1.shape[0],1)), feature_space], axis = 1)\n",
    "np.random.seed(10)\n",
    "idx0 = np.random.permutation(np.arange(len(feature_space)))\n",
    "feature_space = feature_space[idx0]\n",
    "y_true = y_true[idx0]\n",
    "#divide data into training, crossvalildation and test sets.\n",
    "X_train = feature_space[0:int(len(feature_space)*.7)]\n",
    "#mean = np.mean(X_train, axis = 0)\n",
    "#std = np.std(X_train, axis = 0)\n",
    "#X_train = (X_train - mean)/std\n",
    "X_temp = feature_space[int(len(feature_space)*.7):]\n",
    "#X_temp = (X_temp - mean)/std\n",
    "X_cos = X_temp[:int(len(X_temp)*.5)]\n",
    "X_test = X_temp[int(len(X_temp)*.5):]\n",
    "Y_train = y_true[0:int(len(feature_space)*.7)]\n",
    "Y_temp = y_true[int(len(feature_space)*.7):]\n",
    "Y_cos = Y_temp[:int(len(X_temp)*.5)]\n",
    "Y_test = Y_temp[int(len(X_temp)*.5):]"
   ]
  },
  {
   "cell_type": "code",
   "execution_count": 5,
   "metadata": {},
   "outputs": [
    {
     "data": {
      "text/plain": [
       "1.244400605905947"
      ]
     },
     "execution_count": 5,
     "metadata": {},
     "output_type": "execute_result"
    }
   ],
   "source": [
    "w_pre=np.linalg.pinv(X_train).dot(Y_train)\n",
    "y1_pre = X_train.dot(w_pre)\n",
    "np.power(np.linalg.norm(y1_pre-Y_train), 2)"
   ]
  },
  {
   "cell_type": "code",
   "execution_count": 6,
   "metadata": {},
   "outputs": [],
   "source": [
    "Y_pre_test = X_test.dot(w_pre)\n",
    "Y_mean = np.mean(Y_test)\n",
    "SS_tot = np.sum(np.power(Y_test - Y_mean, 2))\n",
    "SS_res = np.power(np.linalg.norm(Y_pre_test-Y_test), 2)\n",
    "R_squared = 1-SS_res/SS_tot"
   ]
  },
  {
   "cell_type": "code",
   "execution_count": 7,
   "metadata": {},
   "outputs": [
    {
     "data": {
      "text/plain": [
       "array([ 0.00891225,  0.00139839,  0.00079605, ...,  0.00051774,\n",
       "       -0.03448741,  0.00200688])"
      ]
     },
     "execution_count": 7,
     "metadata": {},
     "output_type": "execute_result"
    }
   ],
   "source": [
    "y1_pre - Y_train"
   ]
  },
  {
   "cell_type": "code",
   "execution_count": 8,
   "metadata": {},
   "outputs": [],
   "source": [
    "w_pre1 = np.linalg.pinv(X_train).dot(y1_pre - Y_train)\n",
    "y2_pre = X_train.dot(w_pre1)"
   ]
  },
  {
   "cell_type": "code",
   "execution_count": 9,
   "metadata": {},
   "outputs": [
    {
     "data": {
      "text/plain": [
       "1.2444117169613924"
      ]
     },
     "execution_count": 9,
     "metadata": {},
     "output_type": "execute_result"
    }
   ],
   "source": [
    "np.power(np.linalg.norm(y1_pre + 0.01*y2_pre - Y_train), 2)"
   ]
  },
  {
   "cell_type": "code",
   "execution_count": null,
   "metadata": {},
   "outputs": [],
   "source": []
  },
  {
   "cell_type": "code",
   "execution_count": null,
   "metadata": {},
   "outputs": [],
   "source": []
  }
 ],
 "metadata": {
  "kernelspec": {
   "display_name": "Python 3",
   "language": "python",
   "name": "python3"
  },
  "language_info": {
   "codemirror_mode": {
    "name": "ipython",
    "version": 3
   },
   "file_extension": ".py",
   "mimetype": "text/x-python",
   "name": "python",
   "nbconvert_exporter": "python",
   "pygments_lexer": "ipython3",
   "version": "3.7.1"
  }
 },
 "nbformat": 4,
 "nbformat_minor": 2
}
