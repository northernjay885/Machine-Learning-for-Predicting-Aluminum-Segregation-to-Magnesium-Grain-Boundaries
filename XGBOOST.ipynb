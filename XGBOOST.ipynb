{
 "cells": [
  {
   "cell_type": "code",
   "execution_count": 1,
   "metadata": {},
   "outputs": [],
   "source": [
    "import xgboost as xgb"
   ]
  },
  {
   "cell_type": "code",
   "execution_count": 2,
   "metadata": {},
   "outputs": [
    {
     "ename": "XGBoostError",
     "evalue": "b'[09:38:48] src/io/local_filesys.cc:91: LocalFileSystem.ListDirectory demo/data error: No such file or directory\\n\\nStack trace returned 10 entries:\\n[bt] (0) 0   libxgboost.dylib                    0x0000001a1b49bb01 dmlc::StackTrace() + 305\\n[bt] (1) 1   libxgboost.dylib                    0x0000001a1b49b88f dmlc::LogMessageFatal::~LogMessageFatal() + 47\\n[bt] (2) 2   libxgboost.dylib                    0x0000001a1b58adfc dmlc::io::LocalFileSystem::ListDirectory(dmlc::io::URI const&, std::__1::vector<dmlc::io::FileInfo, std::__1::allocator<dmlc::io::FileInfo> >*) + 428\\n[bt] (3) 3   libxgboost.dylib                    0x0000001a1b571a97 dmlc::io::InputSplitBase::ConvertToURIs(std::__1::basic_string<char, std::__1::char_traits<char>, std::__1::allocator<char> > const&) + 375\\n[bt] (4) 4   libxgboost.dylib                    0x0000001a1b570c37 dmlc::io::InputSplitBase::InitInputFileInfo(std::__1::basic_string<char, std::__1::char_traits<char>, std::__1::allocator<char> > const&, bool) + 71\\n[bt] (5) 5   libxgboost.dylib                    0x0000001a1b5709c7 dmlc::io::InputSplitBase::Init(dmlc::io::FileSystem*, char const*, unsigned long, bool) + 231\\n[bt] (6) 6   libxgboost.dylib                    0x0000001a1b5824ba dmlc::InputSplit::Create(char const*, char const*, unsigned int, unsigned int, char const*, bool, int, unsigned long, bool) + 1002\\n[bt] (7) 7   libxgboost.dylib                    0x0000001a1b5820c5 dmlc::InputSplit::Create(char const*, unsigned int, unsigned int, char const*) + 37\\n[bt] (8) 8   libxgboost.dylib                    0x0000001a1b58fd5f dmlc::Parser<unsigned int, float>* dmlc::data::CreateLibSVMParser<unsigned int, float>(std::__1::basic_string<char, std::__1::char_traits<char>, std::__1::allocator<char> > const&, std::__1::map<std::__1::basic_string<char, std::__1::char_traits<char>, std::__1::allocator<char> >, std::__1::basic_string<char, std::__1::char_traits<char>, std::__1::allocator<char> >, std::__1::less<std::__1::basic_string<char, std::__1::char_traits<char>, std::__1::allocator<char> > >, std::__1::allocator<std::__1::pair<std::__1::basic_string<char, std::__1::char_traits<char>, std::__1::allocator<char> > const, std::__1::basic_string<char, std::__1::char_traits<char>, std::__1::allocator<char> > > > > const&, unsigned int, unsigned int) + 47\\n[bt] (9) 9   libxgboost.dylib                    0x0000001a1b58d0ec dmlc::Parser<unsigned int, float>* dmlc::data::CreateParser_<unsigned int, float>(char const*, unsigned int, unsigned int, char const*) + 892\\n\\n'",
     "output_type": "error",
     "traceback": [
      "\u001b[0;31m---------------------------------------------------------------------------\u001b[0m",
      "\u001b[0;31mXGBoostError\u001b[0m                              Traceback (most recent call last)",
      "\u001b[0;32m<ipython-input-2-d06e01e500cb>\u001b[0m in \u001b[0;36m<module>\u001b[0;34m\u001b[0m\n\u001b[0;32m----> 1\u001b[0;31m \u001b[0mdtrain\u001b[0m \u001b[0;34m=\u001b[0m \u001b[0mxgb\u001b[0m\u001b[0;34m.\u001b[0m\u001b[0mDMatrix\u001b[0m\u001b[0;34m(\u001b[0m\u001b[0;34m'demo/data/agaricus.txt.train'\u001b[0m\u001b[0;34m)\u001b[0m\u001b[0;34m\u001b[0m\u001b[0;34m\u001b[0m\u001b[0m\n\u001b[0m",
      "\u001b[0;32m~/anaconda3/envs/Flow/lib/python3.7/site-packages/xgboost/core.py\u001b[0m in \u001b[0;36m__init__\u001b[0;34m(self, data, label, missing, weight, silent, feature_names, feature_types, nthread)\u001b[0m\n\u001b[1;32m    374\u001b[0m             _check_call(_LIB.XGDMatrixCreateFromFile(c_str(data),\n\u001b[1;32m    375\u001b[0m                                                      \u001b[0mctypes\u001b[0m\u001b[0;34m.\u001b[0m\u001b[0mc_int\u001b[0m\u001b[0;34m(\u001b[0m\u001b[0msilent\u001b[0m\u001b[0;34m)\u001b[0m\u001b[0;34m,\u001b[0m\u001b[0;34m\u001b[0m\u001b[0;34m\u001b[0m\u001b[0m\n\u001b[0;32m--> 376\u001b[0;31m                                                      ctypes.byref(self.handle)))\n\u001b[0m\u001b[1;32m    377\u001b[0m         \u001b[0;32melif\u001b[0m \u001b[0misinstance\u001b[0m\u001b[0;34m(\u001b[0m\u001b[0mdata\u001b[0m\u001b[0;34m,\u001b[0m \u001b[0mscipy\u001b[0m\u001b[0;34m.\u001b[0m\u001b[0msparse\u001b[0m\u001b[0;34m.\u001b[0m\u001b[0mcsr_matrix\u001b[0m\u001b[0;34m)\u001b[0m\u001b[0;34m:\u001b[0m\u001b[0;34m\u001b[0m\u001b[0;34m\u001b[0m\u001b[0m\n\u001b[1;32m    378\u001b[0m             \u001b[0mself\u001b[0m\u001b[0;34m.\u001b[0m\u001b[0m_init_from_csr\u001b[0m\u001b[0;34m(\u001b[0m\u001b[0mdata\u001b[0m\u001b[0;34m)\u001b[0m\u001b[0;34m\u001b[0m\u001b[0;34m\u001b[0m\u001b[0m\n",
      "\u001b[0;32m~/anaconda3/envs/Flow/lib/python3.7/site-packages/xgboost/core.py\u001b[0m in \u001b[0;36m_check_call\u001b[0;34m(ret)\u001b[0m\n\u001b[1;32m    163\u001b[0m     \"\"\"\n\u001b[1;32m    164\u001b[0m     \u001b[0;32mif\u001b[0m \u001b[0mret\u001b[0m \u001b[0;34m!=\u001b[0m \u001b[0;36m0\u001b[0m\u001b[0;34m:\u001b[0m\u001b[0;34m\u001b[0m\u001b[0;34m\u001b[0m\u001b[0m\n\u001b[0;32m--> 165\u001b[0;31m         \u001b[0;32mraise\u001b[0m \u001b[0mXGBoostError\u001b[0m\u001b[0;34m(\u001b[0m\u001b[0m_LIB\u001b[0m\u001b[0;34m.\u001b[0m\u001b[0mXGBGetLastError\u001b[0m\u001b[0;34m(\u001b[0m\u001b[0;34m)\u001b[0m\u001b[0;34m)\u001b[0m\u001b[0;34m\u001b[0m\u001b[0;34m\u001b[0m\u001b[0m\n\u001b[0m\u001b[1;32m    166\u001b[0m \u001b[0;34m\u001b[0m\u001b[0m\n\u001b[1;32m    167\u001b[0m \u001b[0;34m\u001b[0m\u001b[0m\n",
      "\u001b[0;31mXGBoostError\u001b[0m: b'[09:38:48] src/io/local_filesys.cc:91: LocalFileSystem.ListDirectory demo/data error: No such file or directory\\n\\nStack trace returned 10 entries:\\n[bt] (0) 0   libxgboost.dylib                    0x0000001a1b49bb01 dmlc::StackTrace() + 305\\n[bt] (1) 1   libxgboost.dylib                    0x0000001a1b49b88f dmlc::LogMessageFatal::~LogMessageFatal() + 47\\n[bt] (2) 2   libxgboost.dylib                    0x0000001a1b58adfc dmlc::io::LocalFileSystem::ListDirectory(dmlc::io::URI const&, std::__1::vector<dmlc::io::FileInfo, std::__1::allocator<dmlc::io::FileInfo> >*) + 428\\n[bt] (3) 3   libxgboost.dylib                    0x0000001a1b571a97 dmlc::io::InputSplitBase::ConvertToURIs(std::__1::basic_string<char, std::__1::char_traits<char>, std::__1::allocator<char> > const&) + 375\\n[bt] (4) 4   libxgboost.dylib                    0x0000001a1b570c37 dmlc::io::InputSplitBase::InitInputFileInfo(std::__1::basic_string<char, std::__1::char_traits<char>, std::__1::allocator<char> > const&, bool) + 71\\n[bt] (5) 5   libxgboost.dylib                    0x0000001a1b5709c7 dmlc::io::InputSplitBase::Init(dmlc::io::FileSystem*, char const*, unsigned long, bool) + 231\\n[bt] (6) 6   libxgboost.dylib                    0x0000001a1b5824ba dmlc::InputSplit::Create(char const*, char const*, unsigned int, unsigned int, char const*, bool, int, unsigned long, bool) + 1002\\n[bt] (7) 7   libxgboost.dylib                    0x0000001a1b5820c5 dmlc::InputSplit::Create(char const*, unsigned int, unsigned int, char const*) + 37\\n[bt] (8) 8   libxgboost.dylib                    0x0000001a1b58fd5f dmlc::Parser<unsigned int, float>* dmlc::data::CreateLibSVMParser<unsigned int, float>(std::__1::basic_string<char, std::__1::char_traits<char>, std::__1::allocator<char> > const&, std::__1::map<std::__1::basic_string<char, std::__1::char_traits<char>, std::__1::allocator<char> >, std::__1::basic_string<char, std::__1::char_traits<char>, std::__1::allocator<char> >, std::__1::less<std::__1::basic_string<char, std::__1::char_traits<char>, std::__1::allocator<char> > >, std::__1::allocator<std::__1::pair<std::__1::basic_string<char, std::__1::char_traits<char>, std::__1::allocator<char> > const, std::__1::basic_string<char, std::__1::char_traits<char>, std::__1::allocator<char> > > > > const&, unsigned int, unsigned int) + 47\\n[bt] (9) 9   libxgboost.dylib                    0x0000001a1b58d0ec dmlc::Parser<unsigned int, float>* dmlc::data::CreateParser_<unsigned int, float>(char const*, unsigned int, unsigned int, char const*) + 892\\n\\n'"
     ]
    }
   ],
   "source": [
    "dtrain = xgb.DMatrix('demo/data/agaricus.txt.train')"
   ]
  },
  {
   "cell_type": "code",
   "execution_count": null,
   "metadata": {},
   "outputs": [],
   "source": []
  }
 ],
 "metadata": {
  "kernelspec": {
   "display_name": "Python 3",
   "language": "python",
   "name": "python3"
  },
  "language_info": {
   "codemirror_mode": {
    "name": "ipython",
    "version": 3
   },
   "file_extension": ".py",
   "mimetype": "text/x-python",
   "name": "python",
   "nbconvert_exporter": "python",
   "pygments_lexer": "ipython3",
   "version": "3.7.1"
  }
 },
 "nbformat": 4,
 "nbformat_minor": 2
}
